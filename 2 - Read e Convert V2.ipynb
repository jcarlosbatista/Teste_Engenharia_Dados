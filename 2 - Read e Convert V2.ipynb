{
 "cells": [
  {
   "cell_type": "markdown",
   "metadata": {
    "application/vnd.databricks.v1+cell": {
     "cellMetadata": {
      "byteLimit": 2048000,
      "rowLimit": 10000
     },
     "inputWidgets": {},
     "nuid": "f07d7d2c-b1fa-4fc6-817a-d248d75af193",
     "showTitle": false,
     "title": ""
    }
   },
   "source": [
    "#### Bibliotecas"
   ]
  },
  {
   "cell_type": "code",
   "execution_count": 0,
   "metadata": {
    "application/vnd.databricks.v1+cell": {
     "cellMetadata": {
      "byteLimit": 2048000,
      "rowLimit": 10000
     },
     "inputWidgets": {},
     "nuid": "bc0cf6fc-f3a1-4791-a042-149e63f86280",
     "showTitle": false,
     "title": ""
    }
   },
   "outputs": [],
   "source": [
    "# Importando os pacotes a serem utilizados\n",
    "import pandas as pd\n",
    "import numpy as np"
   ]
  },
  {
   "cell_type": "markdown",
   "metadata": {
    "application/vnd.databricks.v1+cell": {
     "cellMetadata": {
      "byteLimit": 2048000,
      "rowLimit": 10000
     },
     "inputWidgets": {},
     "nuid": "14bdb098-b766-495c-991a-1dfeab35fe57",
     "showTitle": false,
     "title": ""
    }
   },
   "source": [
    "### DADOS DIRETORIO MNT APÓS INGESTÃO"
   ]
  },
  {
   "cell_type": "code",
   "execution_count": 0,
   "metadata": {
    "application/vnd.databricks.v1+cell": {
     "cellMetadata": {
      "byteLimit": 2048000,
      "rowLimit": 10000
     },
     "inputWidgets": {},
     "nuid": "aa4fc17f-cb5b-4794-899c-0b170bb1dcc6",
     "showTitle": false,
     "title": ""
    }
   },
   "outputs": [
    {
     "output_type": "display_data",
     "data": {
      "text/html": [
       "<style scoped>\n",
       "  .table-result-container {\n",
       "    max-height: 300px;\n",
       "    overflow: auto;\n",
       "  }\n",
       "  table, th, td {\n",
       "    border: 1px solid black;\n",
       "    border-collapse: collapse;\n",
       "  }\n",
       "  th, td {\n",
       "    padding: 5px;\n",
       "  }\n",
       "  th {\n",
       "    text-align: left;\n",
       "  }\n",
       "</style><div class='table-result-container'><table class='table-result'><thead style='background-color: white'><tr><th>path</th><th>name</th><th>size</th><th>modificationTime</th></tr></thead><tbody><tr><td>dbfs:/mnt/raw/pctgroup/olist/customers.csv</td><td>customers.csv</td><td>9457154</td><td>1710773352000</td></tr><tr><td>dbfs:/mnt/raw/pctgroup/olist/geolocation.csv</td><td>geolocation.csv</td><td>48740107</td><td>1710776459000</td></tr><tr><td>dbfs:/mnt/raw/pctgroup/olist/order_items.csv</td><td>order_items.csv</td><td>16810742</td><td>1710777362000</td></tr><tr><td>dbfs:/mnt/raw/pctgroup/olist/order_payments.csv</td><td>order_payments.csv</td><td>6581977</td><td>1710777483000</td></tr><tr><td>dbfs:/mnt/raw/pctgroup/olist/order_reviews.csv</td><td>order_reviews.csv</td><td>12231296</td><td>1710778616000</td></tr></tbody></table></div>"
      ]
     },
     "metadata": {
      "application/vnd.databricks.v1+output": {
       "addedWidgets": {},
       "aggData": [],
       "aggError": "",
       "aggOverflow": false,
       "aggSchema": [],
       "aggSeriesLimitReached": false,
       "aggType": "",
       "arguments": {},
       "columnCustomDisplayInfos": {},
       "data": [
        [
         "dbfs:/mnt/raw/pctgroup/olist/customers.csv",
         "customers.csv",
         9457154,
         1710773352000
        ],
        [
         "dbfs:/mnt/raw/pctgroup/olist/geolocation.csv",
         "geolocation.csv",
         48740107,
         1710776459000
        ],
        [
         "dbfs:/mnt/raw/pctgroup/olist/order_items.csv",
         "order_items.csv",
         16810742,
         1710777362000
        ],
        [
         "dbfs:/mnt/raw/pctgroup/olist/order_payments.csv",
         "order_payments.csv",
         6581977,
         1710777483000
        ],
        [
         "dbfs:/mnt/raw/pctgroup/olist/order_reviews.csv",
         "order_reviews.csv",
         12231296,
         1710778616000
        ]
       ],
       "datasetInfos": [],
       "dbfsResultPath": null,
       "isJsonSchema": true,
       "metadata": {
        "isDbfsCommandResult": false
       },
       "overflow": false,
       "plotOptions": {
        "customPlotOptions": {},
        "displayType": "table",
        "pivotAggregation": null,
        "pivotColumns": null,
        "xColumns": null,
        "yColumns": null
       },
       "removedWidgets": [],
       "schema": [
        {
         "metadata": "{}",
         "name": "path",
         "type": "\"string\""
        },
        {
         "metadata": "{}",
         "name": "name",
         "type": "\"string\""
        },
        {
         "metadata": "{}",
         "name": "size",
         "type": "\"long\""
        },
        {
         "metadata": "{}",
         "name": "modificationTime",
         "type": "\"long\""
        }
       ],
       "type": "table"
      }
     },
     "output_type": "display_data"
    }
   ],
   "source": [
    "%fs ls \"dbfs:/mnt/raw/pctgroup/olist\""
   ]
  },
  {
   "cell_type": "code",
   "execution_count": 0,
   "metadata": {
    "application/vnd.databricks.v1+cell": {
     "cellMetadata": {
      "byteLimit": 2048000,
      "rowLimit": 10000
     },
     "inputWidgets": {},
     "nuid": "caca222a-47c5-4ce5-9bbb-fcd791e683e2",
     "showTitle": false,
     "title": ""
    }
   },
   "outputs": [],
   "source": [
    "# LENDO ARQUIVO CSV E CRIANDO UM DATA FRAME\n",
    "\n",
    "df_customers_dataset = spark.read.csv('dbfs:/mnt/raw/pctgroup/olist/customers*.csv', sep=',', header=True)\n",
    "df_geolocation_dataset = spark.read.csv('dbfs:/mnt/raw/pctgroup/olist/geolocation*.csv', sep=',', header=True)\n",
    "df_order_items_dataset = spark.read.csv('dbfs:/mnt/raw/pctgroup/olist/order_items*.csv', sep=',', header=True)\n",
    "df_order_payments_dataset = spark.read.csv('dbfs:/mnt/raw/pctgroup/olist/order_payments*.csv', sep=',', header=True)\n",
    "df_order_reviews_dataset = spark.read.csv('dbfs:/mnt/raw/pctgroup/olist/order_reviews*.csv', sep=',', header=True)\n"
   ]
  },
  {
   "cell_type": "markdown",
   "metadata": {
    "application/vnd.databricks.v1+cell": {
     "cellMetadata": {
      "byteLimit": 2048000,
      "rowLimit": 10000
     },
     "inputWidgets": {},
     "nuid": "3003df7f-452e-4799-8ef5-8e78a35c9571",
     "showTitle": false,
     "title": ""
    }
   },
   "source": [
    "### GRAVAR EM PARQUET"
   ]
  },
  {
   "cell_type": "code",
   "execution_count": 0,
   "metadata": {
    "application/vnd.databricks.v1+cell": {
     "cellMetadata": {
      "byteLimit": 2048000,
      "rowLimit": 10000
     },
     "inputWidgets": {},
     "nuid": "4047b2e9-e9ff-49f2-970d-6ce695952ca9",
     "showTitle": false,
     "title": ""
    }
   },
   "outputs": [],
   "source": [
    "# GRAVANDO EM PARQUET\n",
    "\n",
    "df_customers_dataset.write.mode(\"overwrite\").parquet(\"/mnt/bs-stage/pctgroup/customers.parquet\")\n",
    "df_geolocation_dataset.write.mode(\"overwrite\").parquet(\"/mnt/bs-stage/pctgroup/geolocation.parquet\")\n",
    "df_order_items_dataset.write.mode(\"overwrite\").parquet(\"/mnt/bs-stage/pctgroup/order_items.parquet\")\n",
    "df_order_payments_dataset.write.mode(\"overwrite\").parquet(\"/mnt/bs-stage/pctgroup/order_payments.parquet\")\n",
    "df_order_reviews_dataset.write.mode(\"overwrite\").parquet(\"/mnt/bs-stage/pctgroup/order_reviews.parquet\")\n"
   ]
  },
  {
   "cell_type": "code",
   "execution_count": 0,
   "metadata": {
    "application/vnd.databricks.v1+cell": {
     "cellMetadata": {
      "byteLimit": 2048000,
      "rowLimit": 10000
     },
     "inputWidgets": {},
     "nuid": "8f77e9d2-02c2-470f-94be-d691ea2bb7b8",
     "showTitle": false,
     "title": ""
    }
   },
   "outputs": [
    {
     "output_type": "display_data",
     "data": {
      "text/html": [
       "<style scoped>\n",
       "  .table-result-container {\n",
       "    max-height: 300px;\n",
       "    overflow: auto;\n",
       "  }\n",
       "  table, th, td {\n",
       "    border: 1px solid black;\n",
       "    border-collapse: collapse;\n",
       "  }\n",
       "  th, td {\n",
       "    padding: 5px;\n",
       "  }\n",
       "  th {\n",
       "    text-align: left;\n",
       "  }\n",
       "</style><div class='table-result-container'><table class='table-result'><thead style='background-color: white'><tr><th>path</th><th>name</th><th>size</th><th>modificationTime</th></tr></thead><tbody><tr><td>dbfs:/mnt/bs-stage/pctgroup/customers.parquet/</td><td>customers.parquet/</td><td>0</td><td>0</td></tr><tr><td>dbfs:/mnt/bs-stage/pctgroup/geolocation.parquet/</td><td>geolocation.parquet/</td><td>0</td><td>0</td></tr><tr><td>dbfs:/mnt/bs-stage/pctgroup/order_items.parquet/</td><td>order_items.parquet/</td><td>0</td><td>0</td></tr><tr><td>dbfs:/mnt/bs-stage/pctgroup/order_payments.parquet/</td><td>order_payments.parquet/</td><td>0</td><td>0</td></tr><tr><td>dbfs:/mnt/bs-stage/pctgroup/order_reviews.parquet/</td><td>order_reviews.parquet/</td><td>0</td><td>0</td></tr></tbody></table></div>"
      ]
     },
     "metadata": {
      "application/vnd.databricks.v1+output": {
       "addedWidgets": {},
       "aggData": [],
       "aggError": "",
       "aggOverflow": false,
       "aggSchema": [],
       "aggSeriesLimitReached": false,
       "aggType": "",
       "arguments": {},
       "columnCustomDisplayInfos": {},
       "data": [
        [
         "dbfs:/mnt/bs-stage/pctgroup/customers.parquet/",
         "customers.parquet/",
         0,
         0
        ],
        [
         "dbfs:/mnt/bs-stage/pctgroup/geolocation.parquet/",
         "geolocation.parquet/",
         0,
         0
        ],
        [
         "dbfs:/mnt/bs-stage/pctgroup/order_items.parquet/",
         "order_items.parquet/",
         0,
         0
        ],
        [
         "dbfs:/mnt/bs-stage/pctgroup/order_payments.parquet/",
         "order_payments.parquet/",
         0,
         0
        ],
        [
         "dbfs:/mnt/bs-stage/pctgroup/order_reviews.parquet/",
         "order_reviews.parquet/",
         0,
         0
        ]
       ],
       "datasetInfos": [],
       "dbfsResultPath": null,
       "isJsonSchema": true,
       "metadata": {
        "isDbfsCommandResult": false
       },
       "overflow": false,
       "plotOptions": {
        "customPlotOptions": {},
        "displayType": "table",
        "pivotAggregation": null,
        "pivotColumns": null,
        "xColumns": null,
        "yColumns": null
       },
       "removedWidgets": [],
       "schema": [
        {
         "metadata": "{}",
         "name": "path",
         "type": "\"string\""
        },
        {
         "metadata": "{}",
         "name": "name",
         "type": "\"string\""
        },
        {
         "metadata": "{}",
         "name": "size",
         "type": "\"long\""
        },
        {
         "metadata": "{}",
         "name": "modificationTime",
         "type": "\"long\""
        }
       ],
       "type": "table"
      }
     },
     "output_type": "display_data"
    }
   ],
   "source": [
    "%fs ls \"dbfs:/mnt/bs-stage/pctgroup\""
   ]
  },
  {
   "cell_type": "markdown",
   "metadata": {
    "application/vnd.databricks.v1+cell": {
     "cellMetadata": {
      "byteLimit": 2048000,
      "rowLimit": 10000
     },
     "inputWidgets": {},
     "nuid": "07fbd8f5-8575-411e-a5f3-da2923b49ff5",
     "showTitle": false,
     "title": ""
    }
   },
   "source": [
    "### LER ARQUIVO PARQUET E CRIAR TABELA TEMPORARIA"
   ]
  },
  {
   "cell_type": "markdown",
   "metadata": {
    "application/vnd.databricks.v1+cell": {
     "cellMetadata": {
      "byteLimit": 2048000,
      "rowLimit": 10000
     },
     "inputWidgets": {},
     "nuid": "a88977dc-e7fb-4215-b9bb-c51bb2446b27",
     "showTitle": false,
     "title": ""
    }
   },
   "source": [
    "##### customers"
   ]
  },
  {
   "cell_type": "code",
   "execution_count": 0,
   "metadata": {
    "application/vnd.databricks.v1+cell": {
     "cellMetadata": {
      "byteLimit": 2048000,
      "rowLimit": 10000
     },
     "inputWidgets": {},
     "nuid": "36b67a5e-dfb6-411e-8ca3-0a08e4706c95",
     "showTitle": false,
     "title": ""
    }
   },
   "outputs": [],
   "source": [
    "# load data into a python dataframe\n",
    "ds_customers = spark.read.parquet(\"/mnt/bs-stage/pctgroup/customers.parquet\")\n",
    "\n",
    "# register as a temporary view [sql]\n",
    "ds_customers.createOrReplaceTempView(\"py_ds_customers\")\n"
   ]
  },
  {
   "cell_type": "markdown",
   "metadata": {
    "application/vnd.databricks.v1+cell": {
     "cellMetadata": {
      "byteLimit": 2048000,
      "rowLimit": 10000
     },
     "inputWidgets": {},
     "nuid": "db0a0c44-fa4e-4070-9016-9ceb4df8ec58",
     "showTitle": false,
     "title": ""
    }
   },
   "source": [
    "##### geolocation"
   ]
  },
  {
   "cell_type": "code",
   "execution_count": 0,
   "metadata": {
    "application/vnd.databricks.v1+cell": {
     "cellMetadata": {
      "byteLimit": 2048000,
      "rowLimit": 10000
     },
     "inputWidgets": {},
     "nuid": "1c885a32-837c-49a5-888a-52fd20f9d5c4",
     "showTitle": false,
     "title": ""
    }
   },
   "outputs": [],
   "source": [
    "# load data into a python dataframe\n",
    "ds_geolocation = spark.read.parquet(\"/mnt/bs-stage/pctgroup/geolocation.parquet\")\n",
    "\n",
    "# register as a temporary view [sql]\n",
    "ds_geolocation.createOrReplaceTempView(\"py_ds_geolocation\")"
   ]
  },
  {
   "cell_type": "markdown",
   "metadata": {
    "application/vnd.databricks.v1+cell": {
     "cellMetadata": {
      "byteLimit": 2048000,
      "rowLimit": 10000
     },
     "inputWidgets": {},
     "nuid": "6945ba5c-377d-4d76-a25e-cec23e22bf3c",
     "showTitle": false,
     "title": ""
    }
   },
   "source": [
    "##### order_items"
   ]
  },
  {
   "cell_type": "code",
   "execution_count": 0,
   "metadata": {
    "application/vnd.databricks.v1+cell": {
     "cellMetadata": {
      "byteLimit": 2048000,
      "rowLimit": 10000
     },
     "inputWidgets": {},
     "nuid": "c339285e-3234-4b69-8169-a118f854a6b3",
     "showTitle": false,
     "title": ""
    }
   },
   "outputs": [],
   "source": [
    "# load data into a python dataframe\n",
    "ds_order_items = spark.read.parquet(\"/mnt/bs-stage/pctgroup/order_items.parquet\")\n",
    "\n",
    "# register as a temporary view [sql]\n",
    "ds_order_items.createOrReplaceTempView(\"py_ds_order_items\")"
   ]
  },
  {
   "cell_type": "markdown",
   "metadata": {
    "application/vnd.databricks.v1+cell": {
     "cellMetadata": {
      "byteLimit": 2048000,
      "rowLimit": 10000
     },
     "inputWidgets": {},
     "nuid": "469f6f03-1309-4a28-a627-2349c64952d8",
     "showTitle": false,
     "title": ""
    }
   },
   "source": [
    "##### order_payments"
   ]
  },
  {
   "cell_type": "code",
   "execution_count": 0,
   "metadata": {
    "application/vnd.databricks.v1+cell": {
     "cellMetadata": {
      "byteLimit": 2048000,
      "rowLimit": 10000
     },
     "inputWidgets": {},
     "nuid": "69acce64-d22a-4786-a920-4034eb9cbaa0",
     "showTitle": false,
     "title": ""
    }
   },
   "outputs": [],
   "source": [
    "# load data into a python dataframe\n",
    "ds_order_payments = spark.read.parquet(\"/mnt/bs-stage/pctgroup/order_payments.parquet\")\n",
    "\n",
    "# register as a temporary view [sql]\n",
    "ds_order_payments.createOrReplaceTempView(\"py_ds_order_payments\")"
   ]
  },
  {
   "cell_type": "markdown",
   "metadata": {
    "application/vnd.databricks.v1+cell": {
     "cellMetadata": {
      "byteLimit": 2048000,
      "rowLimit": 10000
     },
     "inputWidgets": {},
     "nuid": "6302144e-a93f-47f8-ba93-559be1c98b5b",
     "showTitle": false,
     "title": ""
    }
   },
   "source": [
    "##### order_reviews"
   ]
  },
  {
   "cell_type": "code",
   "execution_count": 0,
   "metadata": {
    "application/vnd.databricks.v1+cell": {
     "cellMetadata": {
      "byteLimit": 2048000,
      "rowLimit": 10000
     },
     "inputWidgets": {},
     "nuid": "d6523b9a-8bf9-4f51-b513-de59e39b5df3",
     "showTitle": false,
     "title": ""
    }
   },
   "outputs": [],
   "source": [
    "# load data into a python dataframe\n",
    "ds_order_reviews = spark.read.parquet(\"/mnt/bs-stage/pctgroup/order_reviews.parquet\")\n",
    "\n",
    "# register as a temporary view [sql]\n",
    "ds_order_reviews.createOrReplaceTempView(\"py_ds_order_reviews\")"
   ]
  },
  {
   "cell_type": "code",
   "execution_count": 0,
   "metadata": {
    "application/vnd.databricks.v1+cell": {
     "cellMetadata": {
      "byteLimit": 2048000,
      "rowLimit": 10000
     },
     "inputWidgets": {},
     "nuid": "96b49ac5-458b-49d5-87b9-60103e4fb379",
     "showTitle": false,
     "title": ""
    }
   },
   "outputs": [],
   "source": []
  },
  {
   "cell_type": "markdown",
   "metadata": {
    "application/vnd.databricks.v1+cell": {
     "cellMetadata": {
      "byteLimit": 2048000,
      "rowLimit": 10000
     },
     "inputWidgets": {},
     "nuid": "31317fea-d000-4479-9d42-7e2aab61843d",
     "showTitle": false,
     "title": ""
    }
   },
   "source": [
    "### TRATAMENTO DE DADOS"
   ]
  },
  {
   "cell_type": "markdown",
   "metadata": {
    "application/vnd.databricks.v1+cell": {
     "cellMetadata": {
      "byteLimit": 2048000,
      "rowLimit": 10000
     },
     "inputWidgets": {},
     "nuid": "1a5a574b-a678-41f6-86eb-d9afc475d2c6",
     "showTitle": false,
     "title": ""
    }
   },
   "source": [
    "### precisa corrigir erro de cabeçalho para aplicar o tratamento dos codigos"
   ]
  },
  {
   "cell_type": "markdown",
   "metadata": {
    "application/vnd.databricks.v1+cell": {
     "cellMetadata": {},
     "inputWidgets": {},
     "nuid": "9e1cbc58-2e46-4a23-a3db-3fda9d386ff3",
     "showTitle": false,
     "title": ""
    }
   },
   "source": [
    "##### Tratamento de Nulos"
   ]
  },
  {
   "cell_type": "code",
   "execution_count": 0,
   "metadata": {
    "application/vnd.databricks.v1+cell": {
     "cellMetadata": {},
     "inputWidgets": {},
     "nuid": "fd71505c-9953-4f5a-81bc-e7677852329c",
     "showTitle": false,
     "title": ""
    }
   },
   "outputs": [],
   "source": [
    "from pyspark.sql.functions import col\n",
    "from pyspark.sql.types import StructType, StructField, StringType, IntegerType\n",
    "\n",
    "schema = StructType([\n",
    "    StructField(\"dataset\", StringType(), nullable=False),\n",
    "    StructField(\"n_rows\", IntegerType(), nullable=False),\n",
    "    StructField(\"n_cols\", IntegerType(), nullable=False),\n",
    "    StructField(\"null_amount\", StringType(), nullable=False),\n",
    "    StructField(\"qty_null_columns\", IntegerType(), nullable=False),\n",
    "    StructField(\"null_columns\", StringType(), nullable=False)\n",
    "])\n",
    "\n",
    "data_info = spark.createDataFrame([], schema)\n",
    "\n",
    "datasets = [ds_customers, ds_geolocation, ds_order_items, ds_order_payments, ds_order_reviews]\n",
    "names = ['ds_customers', 'ds_geolocation', 'ds_order_items', 'ds_order_payments', 'ds_order_reviews']\n",
    "\n",
    "for name, df in zip(names, datasets):\n",
    "    n_rows = df.count()\n",
    "    n_cols = len(df.columns)\n",
    "    null_amount = sum([col(c).isNull().cast('int').alias(c) for c in df.columns])\n",
    "    qty_null_columns = sum([col(c).isNull().cast('int') for c in df.columns])\n",
    "    null_columns = ', '.join([c for c, qty_null in zip(df.columns, qty_null_columns.collect()) if qty_null > 0])\n",
    "    data_info = data_info.union(spark.createDataFrame([(name, n_rows, n_cols, null_amount, len(null_columns.split(', ')), null_columns)], schema))\n",
    "\n",
    "display(data_info)"
   ]
  },
  {
   "cell_type": "markdown",
   "metadata": {
    "application/vnd.databricks.v1+cell": {
     "cellMetadata": {
      "byteLimit": 2048000,
      "rowLimit": 10000
     },
     "inputWidgets": {},
     "nuid": "ecfb8edf-177c-40fc-80ff-28760b38d276",
     "showTitle": false,
     "title": ""
    }
   },
   "source": [
    "#### Regra - Date"
   ]
  },
  {
   "cell_type": "code",
   "execution_count": 0,
   "metadata": {
    "application/vnd.databricks.v1+cell": {
     "cellMetadata": {
      "byteLimit": 2048000,
      "rowLimit": 10000
     },
     "inputWidgets": {},
     "nuid": "2d86de42-e80e-438b-ad40-40a67767ee21",
     "showTitle": false,
     "title": ""
    }
   },
   "outputs": [
    {
     "output_type": "execute_result",
     "data": {
      "text/plain": [
       "[Row(review_creation_date='2018-01-18 00:00:00', date2=None),\n",
       " Row(review_creation_date='2018-03-10 00:00:00', date2=None),\n",
       " Row(review_creation_date='2018-02-17 00:00:00', date2=None),\n",
       " Row(review_creation_date='2017-04-21 00:00:00', date2=None),\n",
       " Row(review_creation_date='2018-03-01 00:00:00', date2=None),\n",
       " Row(review_creation_date='2018-04-13 00:00:00', date2=None),\n",
       " Row(review_creation_date='2017-07-16 00:00:00', date2=None),\n",
       " Row(review_creation_date='2018-08-14 00:00:00', date2=None),\n",
       " Row(review_creation_date='2017-05-17 00:00:00', date2=None),\n",
       " Row(review_creation_date='2018-05-22 00:00:00', date2=None)]"
      ]
     },
     "execution_count": 236,
     "metadata": {},
     "output_type": "execute_result"
    }
   ],
   "source": [
    "from pyspark.sql.functions import col, to_date\n",
    "\n",
    "df_dt2 = ds_order_reviews.select(col(\"review_creation_date\"), to_date(col(\"review_answer_timestamp\"), \"MM-dd-yyyy\").alias(\"date2\"))\n",
    "\n",
    "df_dt2.head(10)"
   ]
  },
  {
   "cell_type": "markdown",
   "metadata": {
    "application/vnd.databricks.v1+cell": {
     "cellMetadata": {
      "byteLimit": 2048000,
      "rowLimit": 10000
     },
     "inputWidgets": {},
     "nuid": "18934d07-98f0-4faa-b596-3a1a8e28f3a0",
     "showTitle": false,
     "title": ""
    }
   },
   "source": [
    "#### Regra - Join"
   ]
  },
  {
   "cell_type": "code",
   "execution_count": 0,
   "metadata": {
    "application/vnd.databricks.v1+cell": {
     "cellMetadata": {
      "byteLimit": 2048000,
      "rowLimit": 10000
     },
     "inputWidgets": {},
     "nuid": "1440769c-86f1-4669-b807-afd85196b0f6",
     "showTitle": false,
     "title": ""
    }
   },
   "outputs": [
    {
     "output_type": "execute_result",
     "data": {
      "text/plain": [
       "[Row(00010242fe8c5a6d1ba2dd792cb16214='a09e2bca86a90e8ab0bd8e504426e2e1', 1='1', 4244733e06e7ecb4970a6e2683c13e61='1a428b685ede76217c9efb550c4aaa59', 48436dade18ac8b2bce089ec2a041202='d2374cbcbb3ca4ab1086534108cc3ab7', 2017-09-19 09:45:35='2018-01-23 15:11:26', 58.9000015='22.8999996', 13.29='11.8500004'),\n",
       " Row(00010242fe8c5a6d1ba2dd792cb16214='a09e2bca86a90e8ab0bd8e504426e2e1', 1='2', 4244733e06e7ecb4970a6e2683c13e61='1a428b685ede76217c9efb550c4aaa59', 48436dade18ac8b2bce089ec2a041202='d2374cbcbb3ca4ab1086534108cc3ab7', 2017-09-19 09:45:35='2018-01-23 15:11:26', 58.9000015='22.8999996', 13.29='11.8500004'),\n",
       " Row(00010242fe8c5a6d1ba2dd792cb16214='a09e47caedbb9a7731f26449cc31e7a8', 1='1', 4244733e06e7ecb4970a6e2683c13e61='00636f9286f69c9f1bdabe76e670fb50', 48436dade18ac8b2bce089ec2a041202='cca3071e3e9bb7d12640c9fbe2301306', 2017-09-19 09:45:35='2017-03-10 20:21:48', 58.9000015='27.8999996', 13.29='10.96'),\n",
       " Row(00010242fe8c5a6d1ba2dd792cb16214='a09ed5d1761ac2a730a3447189e6eeea', 1='1', 4244733e06e7ecb4970a6e2683c13e61='bb42f37fc3d9130e4a4339d24a47dd7c', 48436dade18ac8b2bce089ec2a041202='da8622b14eb17ae2831f4ac5b9dab84a', 2017-09-19 09:45:35='2018-01-26 14:18:18', 58.9000015='44.9000015', 13.29='9.09000015'),\n",
       " Row(00010242fe8c5a6d1ba2dd792cb16214='a0a283cb8ba521d35c5a3fc3d9619be5', 1='1', 4244733e06e7ecb4970a6e2683c13e61='0d85c435fd60b277ffb9e9b0f88f927a', 48436dade18ac8b2bce089ec2a041202='f457c46070d02cadd8a68551231220dd', 2017-09-19 09:45:35='2018-02-16 03:28:16', 58.9000015='68.9000015', 13.29='12.6099997'),\n",
       " Row(00010242fe8c5a6d1ba2dd792cb16214='a0a28dfd50d685d3cd51cd7805f62f1c', 1='1', 4244733e06e7ecb4970a6e2683c13e61='52c80cedd4e90108bf4fa6a206ef6b03', 48436dade18ac8b2bce089ec2a041202='a1043bafd471dff536d0c462352beb48', 2017-09-19 09:45:35='2018-01-05 19:26:36', 58.9000015='179.990005', 13.29='45.7200012'),\n",
       " Row(00010242fe8c5a6d1ba2dd792cb16214='a0a2b9cdb28eba192410c480bdacc4fb', 1='1', 4244733e06e7ecb4970a6e2683c13e61='4c77d14c542fcd857dddc3df2e82329c', 48436dade18ac8b2bce089ec2a041202='4c498c7345e89aebad651544829beca0', 2017-09-19 09:45:35='2018-04-11 20:29:10', 58.9000015='249.899994', 13.29='8.60999966'),\n",
       " Row(00010242fe8c5a6d1ba2dd792cb16214='a0a3bd3b31454d0f4722b5d1744333cd', 1='1', 4244733e06e7ecb4970a6e2683c13e61='a55f2480f8f4f12aa8a2f4528319e509', 48436dade18ac8b2bce089ec2a041202='96493fab2fbb13a14d0c0e8772eef5c3', 2017-09-19 09:45:35='2018-01-10 19:50:30', 58.9000015='389', 13.29='17.4799995'),\n",
       " Row(00010242fe8c5a6d1ba2dd792cb16214='a0a4f45a87d4f0655d00a76cd579651e', 1='1', 4244733e06e7ecb4970a6e2683c13e61='63bfa27a0cee21fd896dc27f58b6d656', 48436dade18ac8b2bce089ec2a041202='612170e34b97004b3ba37eae81836b4c', 2017-09-19 09:45:35='2018-08-13 16:25:16', 58.9000015='198.899994', 13.29='20.2999992'),\n",
       " Row(00010242fe8c5a6d1ba2dd792cb16214='a0a61328bad595cbe8e180cc3cdd4ced', 1='1', 4244733e06e7ecb4970a6e2683c13e61='c979d004e102224a0aa1155b332b968e', 48436dade18ac8b2bce089ec2a041202='4e922959ae960d389249c378d1c939f5', 2017-09-19 09:45:35='2018-03-20 17:55:44', 58.9000015='89.9000015', 13.29='8.92000008')]"
      ]
     },
     "execution_count": 232,
     "metadata": {},
     "output_type": "execute_result"
    }
   ],
   "source": [
    "ds_order_items.head(10)"
   ]
  },
  {
   "cell_type": "code",
   "execution_count": 0,
   "metadata": {
    "application/vnd.databricks.v1+cell": {
     "cellMetadata": {
      "byteLimit": 2048000,
      "rowLimit": 10000
     },
     "inputWidgets": {},
     "nuid": "b3e917dc-9ada-481d-a157-1b26a30e5d23",
     "showTitle": false,
     "title": ""
    }
   },
   "outputs": [],
   "source": []
  },
  {
   "cell_type": "code",
   "execution_count": 0,
   "metadata": {
    "application/vnd.databricks.v1+cell": {
     "cellMetadata": {
      "byteLimit": 2048000,
      "rowLimit": 10000
     },
     "inputWidgets": {},
     "nuid": "ac2e8ad8-1d97-4fec-8be1-e5e109a83aa5",
     "showTitle": false,
     "title": ""
    }
   },
   "outputs": [],
   "source": [
    "#TRATAMENTO DE VALORES NULOS\n",
    "\n",
    "\n"
   ]
  },
  {
   "cell_type": "markdown",
   "metadata": {
    "application/vnd.databricks.v1+cell": {
     "cellMetadata": {
      "byteLimit": 2048000,
      "rowLimit": 10000
     },
     "inputWidgets": {},
     "nuid": "77d2ff47-a8f7-411b-906a-ba8bb3464654",
     "showTitle": false,
     "title": ""
    }
   },
   "source": [
    "#### Removendo linhas duplicadas"
   ]
  },
  {
   "cell_type": "code",
   "execution_count": 0,
   "metadata": {
    "application/vnd.databricks.v1+cell": {
     "cellMetadata": {
      "byteLimit": 2048000,
      "rowLimit": 10000
     },
     "inputWidgets": {},
     "nuid": "975cac10-8c89-4402-b506-3294b429e266",
     "showTitle": false,
     "title": ""
    }
   },
   "outputs": [
    {
     "output_type": "execute_result",
     "data": {
      "text/plain": [
       "99440"
      ]
     },
     "execution_count": 207,
     "metadata": {},
     "output_type": "execute_result"
    }
   ],
   "source": [
    "# Removendo linhas duplicadas\n",
    "\n",
    "ds_customers.count()"
   ]
  },
  {
   "cell_type": "code",
   "execution_count": 0,
   "metadata": {
    "application/vnd.databricks.v1+cell": {
     "cellMetadata": {
      "byteLimit": 2048000,
      "rowLimit": 10000
     },
     "inputWidgets": {},
     "nuid": "97bda6e1-a6e5-4bfc-aebd-c7c678ba2359",
     "showTitle": false,
     "title": ""
    }
   },
   "outputs": [
    {
     "output_type": "execute_result",
     "data": {
      "text/plain": [
       "99440"
      ]
     },
     "execution_count": 208,
     "metadata": {},
     "output_type": "execute_result"
    }
   ],
   "source": [
    "ds_customers.drop_duplicates().count()"
   ]
  },
  {
   "cell_type": "markdown",
   "metadata": {
    "application/vnd.databricks.v1+cell": {
     "cellMetadata": {
      "byteLimit": 2048000,
      "rowLimit": 10000
     },
     "inputWidgets": {},
     "nuid": "35bdb466-62b0-451d-a66a-21392bbe2047",
     "showTitle": false,
     "title": ""
    }
   },
   "source": [
    "COLUNA CACULADA"
   ]
  },
  {
   "cell_type": "code",
   "execution_count": 0,
   "metadata": {
    "application/vnd.databricks.v1+cell": {
     "cellMetadata": {
      "byteLimit": 2048000,
      "rowLimit": 10000
     },
     "inputWidgets": {},
     "nuid": "9691f396-5834-442e-8b0f-9a70179c5650",
     "showTitle": false,
     "title": ""
    }
   },
   "outputs": [
    {
     "output_type": "stream",
     "name": "stdout",
     "output_type": "stream",
     "text": [
      "+-----+-----------+-----------+--------------+---+\n| 1037|-23.5456219|-46.6392937|     sao paulo| SP|\n+-----+-----------+-----------+--------------+---+\n|30160| -19.927597|-43.9381638|belo horizonte| MG|\n|30170|  -19.93256|-43.9530449|belo horizonte| MG|\n|30140| -19.928072|-43.9395065|belo horizonte| MG|\n|30112|-19.9391117|-43.9366684|belo horizonte| MG|\n|30170|-19.9306755|-43.9528389|belo horizonte| MG|\n|30140|-19.9314022|-43.9260902|belo horizonte| MG|\n|30140|-19.9239311|-43.9211273|belo horizonte| MG|\n|30140|-19.9303627|-43.9301796|belo horizonte| MG|\n|30112|-19.9333134|-43.9271278|belo horizonte| MG|\n|30170|-19.9329128|-43.9517899|belo horizonte| MG|\n+-----+-----------+-----------+--------------+---+\nonly showing top 10 rows\n\n"
     ]
    }
   ],
   "source": [
    "ds_geolocation.show(10)"
   ]
  },
  {
   "cell_type": "code",
   "execution_count": 0,
   "metadata": {
    "application/vnd.databricks.v1+cell": {
     "cellMetadata": {},
     "inputWidgets": {},
     "nuid": "fde27d09-b48b-44f1-8e2f-c4efdc62f179",
     "showTitle": false,
     "title": ""
    }
   },
   "outputs": [],
   "source": []
  },
  {
   "cell_type": "markdown",
   "metadata": {
    "application/vnd.databricks.v1+cell": {
     "cellMetadata": {
      "byteLimit": 2048000,
      "rowLimit": 10000
     },
     "inputWidgets": {},
     "nuid": "0ed967f8-4419-4bd7-92cb-d58eea76b7c5",
     "showTitle": false,
     "title": ""
    }
   },
   "source": [
    "### GRAVANDO ARQUIVO EM FORMATO DELTA"
   ]
  },
  {
   "cell_type": "code",
   "execution_count": 0,
   "metadata": {
    "application/vnd.databricks.v1+cell": {
     "cellMetadata": {
      "byteLimit": 2048000,
      "rowLimit": 10000
     },
     "inputWidgets": {},
     "nuid": "885ba83e-e177-435f-b7f8-dd983ef1bccd",
     "showTitle": false,
     "title": ""
    }
   },
   "outputs": [],
   "source": [
    "ds_customers.write.mode(\"overwrite\").format(\"delta\").save(\"dbfs:/mnt/bs-production/delta/customers/\")\n"
   ]
  },
  {
   "cell_type": "markdown",
   "metadata": {
    "application/vnd.databricks.v1+cell": {
     "cellMetadata": {
      "byteLimit": 2048000,
      "rowLimit": 10000
     },
     "inputWidgets": {},
     "nuid": "c3126424-ab39-4308-b803-186fa22b8334",
     "showTitle": false,
     "title": ""
    }
   },
   "source": [
    "### LEITURA TABELA DELTA E CRIANDO TABELA TEMPORARIA"
   ]
  },
  {
   "cell_type": "code",
   "execution_count": 0,
   "metadata": {
    "application/vnd.databricks.v1+cell": {
     "cellMetadata": {
      "byteLimit": 2048000,
      "rowLimit": 10000
     },
     "inputWidgets": {},
     "nuid": "8286ebb6-f579-4f17-99e3-354bfd8cb5e9",
     "showTitle": false,
     "title": ""
    }
   },
   "outputs": [],
   "source": [
    "# read delta table [querying from data lakehouse]\n",
    "ds_customers_delta = spark.read.format(\"delta\").load(\"dbfs:/mnt/bs-production/delta/customers/\")\n",
    "\n",
    "# make it available on sql engine\n",
    "ds_customers_delta.createOrReplaceTempView(\"customers_delta\")"
   ]
  },
  {
   "cell_type": "code",
   "execution_count": 0,
   "metadata": {
    "application/vnd.databricks.v1+cell": {
     "cellMetadata": {
      "byteLimit": 2048000,
      "implicitDf": true,
      "rowLimit": 10000
     },
     "inputWidgets": {},
     "nuid": "85ef91df-076a-4ee1-ab6c-73e42e3c6467",
     "showTitle": false,
     "title": ""
    }
   },
   "outputs": [
    {
     "output_type": "display_data",
     "data": {
      "text/html": [
       "<style scoped>\n",
       "  .table-result-container {\n",
       "    max-height: 300px;\n",
       "    overflow: auto;\n",
       "  }\n",
       "  table, th, td {\n",
       "    border: 1px solid black;\n",
       "    border-collapse: collapse;\n",
       "  }\n",
       "  th, td {\n",
       "    padding: 5px;\n",
       "  }\n",
       "  th {\n",
       "    text-align: left;\n",
       "  }\n",
       "</style><div class='table-result-container'><table class='table-result'><thead style='background-color: white'><tr><th>customer_id</th><th>customer_unique_id</th><th>customer_zip_code_prefix</th><th>customer_city</th><th>customer_state</th><th>06b8999e2fba1a1fbc88172c00ba8bc7</th><th>861eff4711a542e4b93843c6dd7febb0</th><th>14409</th><th>franca</th><th>SP</th></tr></thead><tbody><tr><td>null</td><td>null</td><td>null</td><td>null</td><td>null</td><td>18955e83d337fd6b2def6b18a428ac77</td><td>290c77bc529b7ac935b93aa66c333dc3</td><td>9790</td><td>sao bernardo do campo</td><td>SP</td></tr><tr><td>null</td><td>null</td><td>null</td><td>null</td><td>null</td><td>4e7b3e00288586ebd08712fdd0374a03</td><td>060e732b5b29e8181a18229c7b0b2b5e</td><td>1151</td><td>sao paulo</td><td>SP</td></tr><tr><td>null</td><td>null</td><td>null</td><td>null</td><td>null</td><td>b2b6027bc5c5109e529d4dc6358b12c3</td><td>259dac757896d24d7702b9acbbff3f3c</td><td>8775</td><td>mogi das cruzes</td><td>SP</td></tr><tr><td>null</td><td>null</td><td>null</td><td>null</td><td>null</td><td>4f2d8ab171c80ec8364f7c12e35b23ad</td><td>345ecd01c38d18a9036ed96c73b8d066</td><td>13056</td><td>campinas</td><td>SP</td></tr><tr><td>null</td><td>null</td><td>null</td><td>null</td><td>null</td><td>879864dab9bc3047522c92c82e1212b8</td><td>4c93744516667ad3b8f1fb645a3116a4</td><td>89254</td><td>jaragua do sul</td><td>SC</td></tr><tr><td>null</td><td>null</td><td>null</td><td>null</td><td>null</td><td>fd826e7cf63160e536e0908c76c3f441</td><td>addec96d2e059c80c30fe6871d30d177</td><td>4534</td><td>sao paulo</td><td>SP</td></tr><tr><td>null</td><td>null</td><td>null</td><td>null</td><td>null</td><td>5e274e7a0c3809e14aba7ad5aae0d407</td><td>57b2a98a409812fe9618067b6b8ebe4f</td><td>35182</td><td>timoteo</td><td>MG</td></tr><tr><td>null</td><td>null</td><td>null</td><td>null</td><td>null</td><td>5adf08e34b2e993982a47070956c5c65</td><td>1175e95fb47ddff9de6b2b06188f7e0d</td><td>81560</td><td>curitiba</td><td>PR</td></tr><tr><td>null</td><td>null</td><td>null</td><td>null</td><td>null</td><td>4b7139f34592b3a31687243a302fa75b</td><td>9afe194fb833f79e300e37e580171f22</td><td>30575</td><td>belo horizonte</td><td>MG</td></tr><tr><td>null</td><td>null</td><td>null</td><td>null</td><td>null</td><td>9fb35e4ed6f0a14a4977cd9aea4042bb</td><td>2a7745e1ed516b289ed9b29c7d0539a5</td><td>39400</td><td>montes claros</td><td>MG</td></tr></tbody></table></div>"
      ]
     },
     "metadata": {
      "application/vnd.databricks.v1+output": {
       "addedWidgets": {},
       "aggData": [],
       "aggError": "",
       "aggOverflow": false,
       "aggSchema": [],
       "aggSeriesLimitReached": false,
       "aggType": "",
       "arguments": {},
       "columnCustomDisplayInfos": {},
       "data": [
        [
         null,
         null,
         null,
         null,
         null,
         "18955e83d337fd6b2def6b18a428ac77",
         "290c77bc529b7ac935b93aa66c333dc3",
         "9790",
         "sao bernardo do campo",
         "SP"
        ],
        [
         null,
         null,
         null,
         null,
         null,
         "4e7b3e00288586ebd08712fdd0374a03",
         "060e732b5b29e8181a18229c7b0b2b5e",
         "1151",
         "sao paulo",
         "SP"
        ],
        [
         null,
         null,
         null,
         null,
         null,
         "b2b6027bc5c5109e529d4dc6358b12c3",
         "259dac757896d24d7702b9acbbff3f3c",
         "8775",
         "mogi das cruzes",
         "SP"
        ],
        [
         null,
         null,
         null,
         null,
         null,
         "4f2d8ab171c80ec8364f7c12e35b23ad",
         "345ecd01c38d18a9036ed96c73b8d066",
         "13056",
         "campinas",
         "SP"
        ],
        [
         null,
         null,
         null,
         null,
         null,
         "879864dab9bc3047522c92c82e1212b8",
         "4c93744516667ad3b8f1fb645a3116a4",
         "89254",
         "jaragua do sul",
         "SC"
        ],
        [
         null,
         null,
         null,
         null,
         null,
         "fd826e7cf63160e536e0908c76c3f441",
         "addec96d2e059c80c30fe6871d30d177",
         "4534",
         "sao paulo",
         "SP"
        ],
        [
         null,
         null,
         null,
         null,
         null,
         "5e274e7a0c3809e14aba7ad5aae0d407",
         "57b2a98a409812fe9618067b6b8ebe4f",
         "35182",
         "timoteo",
         "MG"
        ],
        [
         null,
         null,
         null,
         null,
         null,
         "5adf08e34b2e993982a47070956c5c65",
         "1175e95fb47ddff9de6b2b06188f7e0d",
         "81560",
         "curitiba",
         "PR"
        ],
        [
         null,
         null,
         null,
         null,
         null,
         "4b7139f34592b3a31687243a302fa75b",
         "9afe194fb833f79e300e37e580171f22",
         "30575",
         "belo horizonte",
         "MG"
        ],
        [
         null,
         null,
         null,
         null,
         null,
         "9fb35e4ed6f0a14a4977cd9aea4042bb",
         "2a7745e1ed516b289ed9b29c7d0539a5",
         "39400",
         "montes claros",
         "MG"
        ]
       ],
       "datasetInfos": [],
       "dbfsResultPath": null,
       "isJsonSchema": true,
       "metadata": {
        "dataframeName": "_sqldf",
        "executionCount": 212
       },
       "overflow": false,
       "plotOptions": {
        "customPlotOptions": {},
        "displayType": "table",
        "pivotAggregation": null,
        "pivotColumns": null,
        "xColumns": null,
        "yColumns": null
       },
       "removedWidgets": [],
       "schema": [
        {
         "metadata": "{}",
         "name": "customer_id",
         "type": "\"string\""
        },
        {
         "metadata": "{}",
         "name": "customer_unique_id",
         "type": "\"string\""
        },
        {
         "metadata": "{}",
         "name": "customer_zip_code_prefix",
         "type": "\"integer\""
        },
        {
         "metadata": "{}",
         "name": "customer_city",
         "type": "\"string\""
        },
        {
         "metadata": "{}",
         "name": "customer_state",
         "type": "\"string\""
        },
        {
         "metadata": "{}",
         "name": "06b8999e2fba1a1fbc88172c00ba8bc7",
         "type": "\"string\""
        },
        {
         "metadata": "{}",
         "name": "861eff4711a542e4b93843c6dd7febb0",
         "type": "\"string\""
        },
        {
         "metadata": "{}",
         "name": "14409",
         "type": "\"string\""
        },
        {
         "metadata": "{}",
         "name": "franca",
         "type": "\"string\""
        },
        {
         "metadata": "{}",
         "name": "SP",
         "type": "\"string\""
        }
       ],
       "type": "table"
      }
     },
     "output_type": "display_data"
    }
   ],
   "source": [
    "%sql\n",
    "\n",
    "select * from customers_delta limit 10"
   ]
  },
  {
   "cell_type": "code",
   "execution_count": 0,
   "metadata": {
    "application/vnd.databricks.v1+cell": {
     "cellMetadata": {
      "byteLimit": 2048000,
      "rowLimit": 10000
     },
     "inputWidgets": {},
     "nuid": "04d3f94b-fccc-4bd3-8331-a375bd68d026",
     "showTitle": false,
     "title": ""
    }
   },
   "outputs": [],
   "source": []
  }
 ],
 "metadata": {
  "application/vnd.databricks.v1+notebook": {
   "dashboards": [],
   "language": "python",
   "notebookMetadata": {
    "mostRecentlyExecutedCommandWithImplicitDF": {
     "commandId": 1544237986066970,
     "dataframes": [
      "_sqldf"
     ]
    },
    "pythonIndentUnit": 2
   },
   "notebookName": "2 - Read e Convert V2",
   "widgets": {}
  }
 },
 "nbformat": 4,
 "nbformat_minor": 0
}
