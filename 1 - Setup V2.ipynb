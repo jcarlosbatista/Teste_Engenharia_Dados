{
 "cells": [
  {
   "cell_type": "markdown",
   "metadata": {
    "application/vnd.databricks.v1+cell": {
     "cellMetadata": {
      "byteLimit": 2048000,
      "rowLimit": 10000
     },
     "inputWidgets": {},
     "nuid": "7ba3dbd6-12fa-45d8-8ff0-a6e0ed77ce56",
     "showTitle": false,
     "title": ""
    }
   },
   "source": [
    "### Setup de ambiente de armazenamento e transferencia de dados"
   ]
  },
  {
   "cell_type": "code",
   "execution_count": 0,
   "metadata": {
    "application/vnd.databricks.v1+cell": {
     "cellMetadata": {
      "byteLimit": 2048000,
      "rowLimit": 10000
     },
     "inputWidgets": {},
     "nuid": "466f143b-9245-47ab-8e32-73fb95ead9d3",
     "showTitle": false,
     "title": ""
    }
   },
   "outputs": [
    {
     "output_type": "stream",
     "name": "stdout",
     "output_type": "stream",
     "text": [
      "/mnt/raw/pctgroup has been unmounted.\n"
     ]
    },
    {
     "output_type": "execute_result",
     "data": {
      "text/plain": [
       "True"
      ]
     },
     "execution_count": 36,
     "metadata": {},
     "output_type": "execute_result"
    }
   ],
   "source": [
    "# REMOVER MOUNT\n",
    "dbutils.fs.unmount(\"/mnt/raw/pctgroup\")\n",
    "#dbutils.fs.rm(\"mnt/ecommerce/pctgroup\")\n",
    "\n",
    "# REMOVER MOUNT\n",
    "#dbutils.fs.rm(\"mnt/ecommerce/pctgroup\", recurse=True)"
   ]
  },
  {
   "cell_type": "code",
   "execution_count": 0,
   "metadata": {
    "application/vnd.databricks.v1+cell": {
     "cellMetadata": {
      "byteLimit": 2048000,
      "rowLimit": 10000
     },
     "inputWidgets": {},
     "nuid": "dc15d1a3-20e3-45d9-b8a7-0abb51a94d33",
     "showTitle": false,
     "title": ""
    }
   },
   "outputs": [
    {
     "output_type": "execute_result",
     "data": {
      "text/plain": [
       "True"
      ]
     },
     "execution_count": 38,
     "metadata": {},
     "output_type": "execute_result"
    }
   ],
   "source": [
    "#MOUNT STORAGE BS-STG-FILES = Landing Zone\n",
    "\n",
    "dbutils.fs.mount(\n",
    "  source = \"wasbs://raw@storagelake2ptcgroup.blob.core.windows.net\",\n",
    "  mount_point = \"/mnt/raw/pctgroup\",\n",
    "  extra_configs = {\"fs.azure.account.key.storagelake2ptcgroup.blob.core.windows.net\": \"yZ5Tn+SmLfnZ9HIrV3VQqX5X7H3GIimpHMxjJr4dVTD3ANODCJgToqWjOZ9MdYBZMgGABava0s0D+AStDpTJew==\"}\n",
    ")"
   ]
  },
  {
   "cell_type": "code",
   "execution_count": 0,
   "metadata": {
    "application/vnd.databricks.v1+cell": {
     "cellMetadata": {
      "byteLimit": 2048000,
      "rowLimit": 10000
     },
     "inputWidgets": {},
     "nuid": "0a0d77e7-6ede-41b5-bd06-3a3f68283b1e",
     "showTitle": false,
     "title": ""
    }
   },
   "outputs": [
    {
     "output_type": "execute_result",
     "data": {
      "text/plain": [
       "[FileInfo(path='dbfs:/mnt/raw/pctgroup/text/customers', name='customers', size=9457240, modificationTime=1710772443000)]"
      ]
     },
     "execution_count": 25,
     "metadata": {},
     "output_type": "execute_result"
    }
   ],
   "source": [
    "#LISTAR DIRETORIOS\n",
    "\n",
    "dbutils.fs.ls(\"mnt/raw/pctgroup/text/\")"
   ]
  },
  {
   "cell_type": "code",
   "execution_count": 0,
   "metadata": {
    "application/vnd.databricks.v1+cell": {
     "cellMetadata": {
      "byteLimit": 2048000,
      "rowLimit": 10000
     },
     "inputWidgets": {},
     "nuid": "f06fed89-50ad-4809-afa6-58968456c9f2",
     "showTitle": true,
     "title": "Mount Storage [bs-production] = Production Zone"
    }
   },
   "outputs": [
    {
     "output_type": "execute_result",
     "data": {
      "text/plain": [
       "True"
      ]
     },
     "execution_count": 4,
     "metadata": {},
     "output_type": "execute_result"
    }
   ],
   "source": [
    "#MOUNT STORAGE BS-PRODICTION = production Zone\n",
    "\n",
    "dbutils.fs.mount(\n",
    "  source = \"wasbs://bs-stg-files@storagelake2ptcgroup.blob.core.windows.net\",\n",
    "  mount_point = \"/mnt/bs-stage/pctgroup\",\n",
    "  extra_configs = {\"fs.azure.account.key.storagelake2ptcgroup.blob.core.windows.net\": \"yZ5Tn+SmLfnZ9HIrV3VQqX5X7H3GIimpHMxjJr4dVTD3ANODCJgToqWjOZ9MdYBZMgGABava0s0D+AStDpTJew==\"}\n",
    ")"
   ]
  },
  {
   "cell_type": "code",
   "execution_count": 0,
   "metadata": {
    "application/vnd.databricks.v1+cell": {
     "cellMetadata": {
      "byteLimit": 2048000,
      "rowLimit": 10000
     },
     "inputWidgets": {},
     "nuid": "7542f997-0375-4072-a935-895629c30404",
     "showTitle": true,
     "title": "List Production Zone"
    }
   },
   "outputs": [
    {
     "output_type": "execute_result",
     "data": {
      "text/plain": [
       "[FileInfo(path='dbfs:/mnt/bs-stage/pctgroup/olist_customers_dataset.csv', name='olist_customers_dataset.csv', size=9033957, modificationTime=1710762228000),\n",
       " FileInfo(path='dbfs:/mnt/bs-stage/pctgroup/olist_geolocation_dataset.csv', name='olist_geolocation_dataset.csv', size=61273883, modificationTime=1710762236000),\n",
       " FileInfo(path='dbfs:/mnt/bs-stage/pctgroup/olist_order_items_dataset.csv', name='olist_order_items_dataset.csv', size=15438671, modificationTime=1710762224000),\n",
       " FileInfo(path='dbfs:/mnt/bs-stage/pctgroup/olist_order_payments_dataset.csv', name='olist_order_payments_dataset.csv', size=5777138, modificationTime=1710762238000),\n",
       " FileInfo(path='dbfs:/mnt/bs-stage/pctgroup/olist_order_reviews_dataset.csv', name='olist_order_reviews_dataset.csv', size=14451670, modificationTime=1710762238000),\n",
       " FileInfo(path='dbfs:/mnt/bs-stage/pctgroup/olist_orders_dataset.csv', name='olist_orders_dataset.csv', size=17654914, modificationTime=1710762231000),\n",
       " FileInfo(path='dbfs:/mnt/bs-stage/pctgroup/olist_products_dataset.csv', name='olist_products_dataset.csv', size=2379446, modificationTime=1710762226000),\n",
       " FileInfo(path='dbfs:/mnt/bs-stage/pctgroup/olist_sellers_dataset.csv', name='olist_sellers_dataset.csv', size=174703, modificationTime=1710762221000),\n",
       " FileInfo(path='dbfs:/mnt/bs-stage/pctgroup/product_category_name_translation.csv', name='product_category_name_translation.csv', size=2613, modificationTime=1710762220000)]"
      ]
     },
     "execution_count": 5,
     "metadata": {},
     "output_type": "execute_result"
    }
   ],
   "source": [
    "#Visualizar conteudo do diretorio\n",
    "\n",
    "dbutils.fs.ls(\"/mnt/bs-stage/pctgroup\")"
   ]
  },
  {
   "cell_type": "markdown",
   "metadata": {
    "application/vnd.databricks.v1+cell": {
     "cellMetadata": {
      "byteLimit": 2048000,
      "rowLimit": 10000
     },
     "inputWidgets": {},
     "nuid": "f011e3c1-27d7-455f-b593-132974cf03fe",
     "showTitle": false,
     "title": ""
    }
   },
   "source": [
    "\n",
    "> remove the mounted storages if you want"
   ]
  },
  {
   "cell_type": "code",
   "execution_count": 0,
   "metadata": {
    "application/vnd.databricks.v1+cell": {
     "cellMetadata": {
      "byteLimit": 2048000,
      "rowLimit": 10000
     },
     "inputWidgets": {},
     "nuid": "67fa3066-d9ab-4986-abab-2f782a8041e2",
     "showTitle": false,
     "title": ""
    }
   },
   "outputs": [],
   "source": [
    "if dbutils.fs.mounts():\n",
    "  if any(mount.mountPoint == \"mnt/raw/pctgroup\" for mount in dbutils.fs.mounts()):\n",
    "    dbutils.fs.unmount(\"mnt/raw/pctgroup\")\n",
    "    \n",
    "if dbutils.fs.mounts():\n",
    "  if any(mount.mountPoint == \"mnt/bs-stage/pctgroup\" for mount in dbutils.fs.mounts()):\n",
    "    dbutils.fs.unmount(\"mnt/bs-stage/pctgroup\")"
   ]
  },
  {
   "cell_type": "code",
   "execution_count": 0,
   "metadata": {
    "application/vnd.databricks.v1+cell": {
     "cellMetadata": {},
     "inputWidgets": {},
     "nuid": "b5d3ec3d-18ef-415e-be46-489b9921712c",
     "showTitle": false,
     "title": ""
    }
   },
   "outputs": [],
   "source": []
  }
 ],
 "metadata": {
  "application/vnd.databricks.v1+notebook": {
   "dashboards": [],
   "language": "python",
   "notebookMetadata": {
    "pythonIndentUnit": 2
   },
   "notebookName": "1 - Setup V2",
   "widgets": {}
  }
 },
 "nbformat": 4,
 "nbformat_minor": 0
}
